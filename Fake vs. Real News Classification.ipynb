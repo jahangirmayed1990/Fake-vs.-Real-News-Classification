{
 "cells": [
  {
   "cell_type": "code",
   "execution_count": 1,
   "id": "3aa3f659-65e2-45cb-b727-9736af362f5d",
   "metadata": {},
   "outputs": [],
   "source": [
    "import pandas as pd\n",
    "import numpy as np"
   ]
  },
  {
   "cell_type": "code",
   "execution_count": 3,
   "id": "5e588705-21f4-4bd2-8803-8138dfb9ad93",
   "metadata": {},
   "outputs": [
    {
     "data": {
      "text/html": [
       "<div>\n",
       "<style scoped>\n",
       "    .dataframe tbody tr th:only-of-type {\n",
       "        vertical-align: middle;\n",
       "    }\n",
       "\n",
       "    .dataframe tbody tr th {\n",
       "        vertical-align: top;\n",
       "    }\n",
       "\n",
       "    .dataframe thead th {\n",
       "        text-align: right;\n",
       "    }\n",
       "</style>\n",
       "<table border=\"1\" class=\"dataframe\">\n",
       "  <thead>\n",
       "    <tr style=\"text-align: right;\">\n",
       "      <th></th>\n",
       "      <th>Text</th>\n",
       "      <th>label</th>\n",
       "    </tr>\n",
       "  </thead>\n",
       "  <tbody>\n",
       "    <tr>\n",
       "      <th>0</th>\n",
       "      <td>Top Trump Surrogate BRUTALLY Stabs Him In The...</td>\n",
       "      <td>Fake</td>\n",
       "    </tr>\n",
       "    <tr>\n",
       "      <th>1</th>\n",
       "      <td>U.S. conservative leader optimistic of common ...</td>\n",
       "      <td>Real</td>\n",
       "    </tr>\n",
       "    <tr>\n",
       "      <th>2</th>\n",
       "      <td>Trump proposes U.S. tax overhaul, stirs concer...</td>\n",
       "      <td>Real</td>\n",
       "    </tr>\n",
       "    <tr>\n",
       "      <th>3</th>\n",
       "      <td>Court Forces Ohio To Allow Millions Of Illega...</td>\n",
       "      <td>Fake</td>\n",
       "    </tr>\n",
       "    <tr>\n",
       "      <th>4</th>\n",
       "      <td>Democrats say Trump agrees to work on immigrat...</td>\n",
       "      <td>Real</td>\n",
       "    </tr>\n",
       "    <tr>\n",
       "      <th>...</th>\n",
       "      <td>...</td>\n",
       "      <td>...</td>\n",
       "    </tr>\n",
       "    <tr>\n",
       "      <th>9895</th>\n",
       "      <td>Wikileaks Admits To Screwing Up IMMENSELY Wit...</td>\n",
       "      <td>Fake</td>\n",
       "    </tr>\n",
       "    <tr>\n",
       "      <th>9896</th>\n",
       "      <td>Trump consults Republican senators on Fed chie...</td>\n",
       "      <td>Real</td>\n",
       "    </tr>\n",
       "    <tr>\n",
       "      <th>9897</th>\n",
       "      <td>Trump lawyers say judge lacks jurisdiction for...</td>\n",
       "      <td>Real</td>\n",
       "    </tr>\n",
       "    <tr>\n",
       "      <th>9898</th>\n",
       "      <td>WATCH: Right-Wing Pastor Falsely Credits Trum...</td>\n",
       "      <td>Fake</td>\n",
       "    </tr>\n",
       "    <tr>\n",
       "      <th>9899</th>\n",
       "      <td>Sean Spicer HILARIOUSLY Branded As Chickensh*...</td>\n",
       "      <td>Fake</td>\n",
       "    </tr>\n",
       "  </tbody>\n",
       "</table>\n",
       "<p>9900 rows × 2 columns</p>\n",
       "</div>"
      ],
      "text/plain": [
       "                                                   Text label\n",
       "0      Top Trump Surrogate BRUTALLY Stabs Him In The...  Fake\n",
       "1     U.S. conservative leader optimistic of common ...  Real\n",
       "2     Trump proposes U.S. tax overhaul, stirs concer...  Real\n",
       "3      Court Forces Ohio To Allow Millions Of Illega...  Fake\n",
       "4     Democrats say Trump agrees to work on immigrat...  Real\n",
       "...                                                 ...   ...\n",
       "9895   Wikileaks Admits To Screwing Up IMMENSELY Wit...  Fake\n",
       "9896  Trump consults Republican senators on Fed chie...  Real\n",
       "9897  Trump lawyers say judge lacks jurisdiction for...  Real\n",
       "9898   WATCH: Right-Wing Pastor Falsely Credits Trum...  Fake\n",
       "9899   Sean Spicer HILARIOUSLY Branded As Chickensh*...  Fake\n",
       "\n",
       "[9900 rows x 2 columns]"
      ]
     },
     "execution_count": 3,
     "metadata": {},
     "output_type": "execute_result"
    }
   ],
   "source": [
    "df1=pd.read_csv('F:/Python/Ostad Python/Jupyter notebook/NB_NLP_HAM-SPAM_Identification/fake_and_real/fake_and_real_news.csv')\n",
    "df1"
   ]
  },
  {
   "cell_type": "code",
   "execution_count": 5,
   "id": "12d2ae7a-8160-4bfb-af7a-2499b78c23d0",
   "metadata": {},
   "outputs": [
    {
     "data": {
      "text/plain": [
       "label\n",
       "Fake    5000\n",
       "Real    4900\n",
       "Name: count, dtype: int64"
      ]
     },
     "execution_count": 5,
     "metadata": {},
     "output_type": "execute_result"
    }
   ],
   "source": [
    "df1.label.value_counts()"
   ]
  },
  {
   "cell_type": "code",
   "execution_count": 7,
   "id": "4ae0bb54-d648-4938-91c7-2aa9eebf7dae",
   "metadata": {},
   "outputs": [
    {
     "data": {
      "text/plain": [
       "(9900, 2)"
      ]
     },
     "execution_count": 7,
     "metadata": {},
     "output_type": "execute_result"
    }
   ],
   "source": [
    "df1.shape"
   ]
  },
  {
   "cell_type": "code",
   "execution_count": 9,
   "id": "db1398fb-9c03-4026-b276-b2ca0e437945",
   "metadata": {},
   "outputs": [],
   "source": [
    "from sklearn.model_selection import train_test_split\n",
    "\n",
    "X_train, X_test, y_train, y_test = train_test_split(df1.Text, df1.label, test_size=0.2, random_state=42)"
   ]
  },
  {
   "cell_type": "code",
   "execution_count": 11,
   "id": "25f30f68-7bc5-4703-8aa6-c54f3fc83984",
   "metadata": {},
   "outputs": [
    {
     "data": {
      "text/plain": [
       "1665    As new fiscal year dawns, hope for Illinois bu...\n",
       "1416    Schumer says U.S. budget deal doable if Trump ...\n",
       "7298    NRA calls for more regulation after Vegas shoo...\n",
       "4700    White House says Tillerson to remain as secret...\n",
       "6192     Scientists Scramble To Copy Climate Data Befo...\n",
       "                              ...                        \n",
       "5734     WATCH: Hannity Loses His Sh*t And Refers To H...\n",
       "5191     Sean Hannity Just Showed EXACTLY How Delusion...\n",
       "5390     WATCH: CNN Host Makes Trump’s Campaign Manage...\n",
       "860     Democratic senator lifts hold on Trump antitru...\n",
       "7270    'Unremarkable' Virginia attacker shows difficu...\n",
       "Name: Text, Length: 7920, dtype: object"
      ]
     },
     "execution_count": 11,
     "metadata": {},
     "output_type": "execute_result"
    }
   ],
   "source": [
    "X_train"
   ]
  },
  {
   "cell_type": "code",
   "execution_count": 13,
   "id": "e4673e1e-51b1-49e8-b5fd-75c5fb3aa52a",
   "metadata": {},
   "outputs": [
    {
     "data": {
      "text/plain": [
       "8432     Trump’s Involvement In Houston Chemical Plant...\n",
       "5680    U.S. Senate votes near unanimously for Russia,...\n",
       "4767    White and male: broader bureaucracy mirrors Tr...\n",
       "9218    Trump, Modi call North Korea's 'grave threat' ...\n",
       "621      Ivanka Trump Shares Famous Jewish Quote, But ...\n",
       "                              ...                        \n",
       "9500    Kid Rock hints online he will run for U.S. Sen...\n",
       "5858    U.S. Justice Department not looking to charge ...\n",
       "7442     WATCH: Nicolle Wallace Just Ripped Trump A Ne...\n",
       "2846    Trump budget would sell entire U.S. Northeast ...\n",
       "1468    Seeking end to boycott, North Carolina rescind...\n",
       "Name: Text, Length: 1980, dtype: object"
      ]
     },
     "execution_count": 13,
     "metadata": {},
     "output_type": "execute_result"
    }
   ],
   "source": [
    "X_test"
   ]
  },
  {
   "cell_type": "code",
   "execution_count": 15,
   "id": "182c7457-74d1-457c-a78a-acfa60e13af5",
   "metadata": {},
   "outputs": [
    {
     "data": {
      "text/plain": [
       "1665    Real\n",
       "1416    Real\n",
       "7298    Real\n",
       "4700    Real\n",
       "6192    Fake\n",
       "        ... \n",
       "5734    Fake\n",
       "5191    Fake\n",
       "5390    Fake\n",
       "860     Real\n",
       "7270    Real\n",
       "Name: label, Length: 7920, dtype: object"
      ]
     },
     "execution_count": 15,
     "metadata": {},
     "output_type": "execute_result"
    }
   ],
   "source": [
    "y_train"
   ]
  },
  {
   "cell_type": "code",
   "execution_count": 17,
   "id": "83193ac4-be83-4c04-bb02-3916c99303ad",
   "metadata": {},
   "outputs": [
    {
     "data": {
      "text/plain": [
       "8432    Fake\n",
       "5680    Real\n",
       "4767    Real\n",
       "9218    Real\n",
       "621     Fake\n",
       "        ... \n",
       "9500    Real\n",
       "5858    Real\n",
       "7442    Fake\n",
       "2846    Real\n",
       "1468    Real\n",
       "Name: label, Length: 1980, dtype: object"
      ]
     },
     "execution_count": 17,
     "metadata": {},
     "output_type": "execute_result"
    }
   ],
   "source": [
    "y_test"
   ]
  },
  {
   "cell_type": "code",
   "execution_count": 19,
   "id": "6c07324a-1c49-4fbe-bb8b-d1e3595d07ff",
   "metadata": {},
   "outputs": [
    {
     "data": {
      "text/plain": [
       "array(['As new fiscal year dawns, hope for Illinois budget dims CHICAGO (Reuters) - Risking a historic drop to junk bond status, Illinois began its third straight fiscal year without a budget on Saturday as political maneuvering dimmed hopes for a bipartisan spending and revenue package anytime soon. While the House scheduled session on Sunday to take up a revenue package, the Senate is not slated to return until Monday. The nation’s fifth-largest state has lacked a full operating budget since July 2015 and is under a warning from S&P that it will drop Illinois’ creditworthiness to the lowest of any state in history if it fails to pass a fiscal 2018 budget that starts to address a chronic structural deficit. Talks between Democrats who control the Illinois House and Republicans had shown signs of progress as both sides rallied behind a $36.5 billion spending blueprint on Friday and were poised to build on that positive movement in a rare Fourth of July holiday weekend legislative session. Instead, tensions broke out on the House floor between House Republican Leader Jim Durkin and Democratic House Speaker Michael Madigan, who initially informed the legislative chamber that no budget votes would be taken on Sunday. “Saying we’ll gavel out and return at some point [Sunday] to me does not send a message to Illinoisans that we’re prepared to bring this to resolution any time soon,” said Durkin, the Republican Party’s legislative proxy for Governor Bruce Rauner, who has stayed on the sidelines of recent budget negotiations. Madigan walked off the floor a short time later to the shout of “Speaker Junk” from State Representative Grant Wehrli, a suburban Chicago Republican. By late afternoon, Madigan reversed course and said there indeed would be a vote on a tax-increase package Sunday, neglecting any mention of accompanying votes on a local property tax freeze or workers compensation reforms that are two of Rauner’s key demands under negotiation. In a statement, Madigan said he was “encouraged by the progress” in talks with Durkin and vowed to vote Sunday on a revenue package “modeled on the bill supported by the governor and House and Senate Republicans.” Durkin made clear in his own statement that “there is no agreement on a comprehensive budget package that includes reforms and revenue,” contradicting Madigan and painting a dim outlook for bipartisan consensus on Sunday. “This impasse can only be resolved in a negotiated manner,” Durkin said. “It is our hope that Democrats will remain at the negotiating table.”  ',\n",
       "       'Schumer says U.S. budget deal doable if Trump stays out of it WASHINGTON (Reuters) - Senate Democratic Leader Chuck Schumer said on Sunday he believes lawmakers could reach a short-term U.S. budget deal by Friday if President Donald Trump did not meddle in their talks with “poison pill” demands like funding for a border wall. “I am hopeful that we can get a budget done,” Schumer said at a news conference. “The only fly in the ointment is that the president is being a little heavy-handed, and mixing in and asking for things such as the (border) wall.” “So we’d ask him to let us do our work, not throw in some last-minute poison pills that could undo it and we could get this done.” ',\n",
       "       'NRA calls for more regulation after Vegas shooting WASHINGTON (Reuters) - The National Rifle Association said on Thursday devices that allow semi-automatic rifles to function like fully automatic ones need tougher regulation, and it called on regulators to determine whether the bump-stock devices comply with federal law. “The National Rifle Association is calling on the Bureau of Alcohol, Tobacco, Firearms and Explosives to immediately review whether these devices comply with federal law,” the powerful gun lobby group said in a statement. “The NRA believes that devices designed to allow semi-automatic rifles to function like fully automatic rifles should be subject to additional regulations,” it said. ',\n",
       "       ...,\n",
       "       ' WATCH: CNN Host Makes Trump’s Campaign Manager Regret She Took The Job We re just days into experiencing the leadership skills Kellyanne Conway, Donald Trump s new campaign manager, has to offer, and so far it s a disaster. An interview on CNN s State of the Union gave us a taste of Conway s ability to handle a little bit of grilling from the press.Before her rise to the top, Conway had called out Trump for his refusal to release his tax returns. Dana Bash, the show s host, wasted no time bringing up the matter during the interview. OK, now you re in charge of Donald Trump s campaign. Given that, given how you feel, are we going to see Donald Trump s tax returns soon? Conway, who is apparently not interested in creating any original talking points, went straight to the  there s a media conspiracy against Trump  line. Conway insisted that CNN should be more concerned with covering corruption relating to the Clinton Foundation.  Which, seeing as there is no real conspiracy against Trump, they did. Conway said: So, now that I m on the inside, I know something I didn t know then, which is he is under audit and what that means. And, he has said very clearly, and I back him up completely, that when the audit is completed he will release the tax returns. And let me just say something about transparency. It comes in many different forms, Dana, as does accountability and as does truthfulness. And we can t imagine going up against a less transparent, less accountable, more sort of rigged and corrupt individual as our political opponent than Hillary Clinton. She s had a terrible week when it comes to being transparent and accountable. Whether it s the revelations of the pay-for-play at the   in the State Department, that I know that CNN is very much on top of and your reporting is, Dana. As well as, as well as, the   what happened at the Clinton Foundation, which is a big hot mess. Bash responds saying: And we are talking about that for sure, but in this particular interview and these questions are about Donald Trump. And you mentioned the audit. According to his lawyers, the years 2002 to 2008 are no longer under audit. So would you release those tax returns? Conway continues to evade the question, saying: No, I would not. And this entire tax return debate is somewhat confounding to me in the following sense. I don t think that it creates one job, gets one more individual who does not have health insurance covered by health insurance, particularly under the disaster that has been Obamacare with these private insurers pulling out of our exchanges now and reporting billions of dollars of losses. What I think people are most concerned about is; how would a President Trump, or how would a President Hillary, affect their tax bill? Conway just proved that she is going to offer more of the same from the Trump campaign as we saw under the Manafort era. Same messaging and words, just a new mouth saying them.You can watch the exchange below.https://www.youtube.com/watch?v=ApplceC4RtUFeatured image via video screen capture',\n",
       "       'Democratic senator lifts hold on Trump antitrust nominee -aide WASHINGTON (Reuters) - U.S. Senator Elizabeth Warren has lifted her hold on President Donald Trump’s pick to run the Justice Department’s Antitrust Division, a move that will allow the Senate to vote to confirm Makan Delrahim, a senior Republican aide said on Friday. Warren, a Massachusetts Democrat, had met with Delrahim early in September where she pressed him about her concerns about lobbying and political interference in antitrust.  Delrahim, a veteran of the Justice Department and a lobbyist, has been nominated to be assistant attorney general. It was not immediately clear when the vote would go forward. The president took an usually long time nominating Delrahim, finally naming him in late March. The Senate Judiciary Committee approved him in June, and sent his nomination to the full Senate. In the interim, the Justice Department Antitrust Division is being run by Andrew Finch, who will become a deputy to Delrahim once he is in place. Warren’s office and Delrahim did not immediately respond to a request for comment about the hold being lifted. Senator Orrin Hatch, a member of the Judiciary Committee and a Utah Republican, has worked with Warren and others to address concerns about Delrahim’s nomination, Hatch’s office said in a statement.  Warren had been concerned about Trump attempting to exert political influence on antitrust decisions. As a candidate, Trump had said he would oppose AT&T Inc’s proposed $85 billion acquisition of Time Warner Inc, owner of CNN and one of the country’s largest film and television companies. Delrahim said in his confirmation hearing in May that on his watch, the division’s merger reviews would be free from any political influence.',\n",
       "       \"'Unremarkable' Virginia attacker shows difficulty of fighting political violence WASHINGTON/NEW YORK (Reuters) - The most worrying thing about James Hodgkinson, experts on violent extremism say, is how unremarkable the 66-year-old home inspector from Illinois seemed until he opened fire on Republican lawmakers as they played baseball.  Violent clashes between left-wing and right-wing groups at rallies and protests around the country have increased since the election of President Donald Trump in November.  Experts say detecting and heading off anti-government attacks from people driven by political ideology is increasingly difficult because of the abundance of partisan rancor, particularly on social media.  Hodgkinson wrote a series of strident messages against Trump and other Republicans on his Facebook account. But so have many other Americans as politics have become more polarized in recent years, particularly since the divisive 2016 presidential election campaign. None of Hodgkinson’s posts suggested he would end up opening fire at a baseball field outside Washington on Wednesday morning. He wounded a top Republican lawmaker, a Congressional aide, a lobbyist, and a Capitol police officer before being shot himself. He later died from his wounds. In one Facebook post, Hodgkinson wrote: “Trump is a Traitor. Trump Has Destroyed Our Democracy. It’s Time to Destroy Trump & Co.” However, there is no evidence so far that he was linked to any radical or violent groups. Like millions of other Americans, he supported Senator Bernie Sanders, an independent who sought the Democratic presidential nomination and condemns violence. Steve Bongardt, who worked until 2015 as an FBI special agent focusing on threat detection, said traditional counter-terrorism tools such as behavioral profiling and surveillance are less effective because so many otherwise harmless people  post virulent messages on social media.  “The problem isn’t that behavioral profiles don’t work. The problem is the utility of them, because they give us so many false positives,” said Bongardt, who now heads The Gyges Group, a security firm. Mark Pitcavage, a senior research fellow in the Anti-Defamation League’s Center on Extremism, said the intensity of  emotions on both sides of the political divide could be dangerous. “When you have people with basically mainstream opinions so worked up that they’re willing to commit acts of actual violence, it illustrates in a very stark way how divided our country is right now,” Pitcavage said. A spokesman for the Justice Department said the department is considering a possible statute to target “ideologically motivated crimes of violence” from radical groups or individuals inside the country. Jerry Boykin, executive vice president of the conservative Family Research Council, which a gunman attacked in 2012 over its opposition to same-sex marriage, said Wednesday’s shooting showed that both sides need to “tone down their rhetoric.” “This is an opportunity for a fresh start for everybody in a position of leadership, all the way up to the president,” Boykin said. Most political violence in the United States still comes from right-wing groups, according to Brian Levin, director of the Center for the Study of Hate and Extremism at California State University, San Bernardino.  However, the United States also has a history of violence from left-wing groups such as the Weather Underground, which was active in the 1970s. It then eased substantially over the past three decades but has risen again in recent years with violence at protests against globalization, police brutality and the Trump administration, Levin said. Left-wing extremists “might be the junior varsity, but they’re now on the radar screen,” he said. It is too early to say if Hodgkinson’s attack was part of a post-election trend of left-wing violence, said J.J. MacNab, a fellow specializing in anti-government extremism at George Washington University’s Center for Cyber and Homeland Security. “We are a cycle-of-violence country. It looks like we may be going into a left-wing phase now, but I’m not sure the violent right-wing is ready to shut up yet,” MacNab said. \"],\n",
       "      dtype=object)"
      ]
     },
     "execution_count": 19,
     "metadata": {},
     "output_type": "execute_result"
    }
   ],
   "source": [
    "X_train.values"
   ]
  },
  {
   "cell_type": "code",
   "execution_count": 21,
   "id": "8b993222-a5af-4310-a357-78cc0e873475",
   "metadata": {},
   "outputs": [
    {
     "data": {
      "text/plain": [
       "(7920,)"
      ]
     },
     "execution_count": 21,
     "metadata": {},
     "output_type": "execute_result"
    }
   ],
   "source": [
    "X_train.values.shape"
   ]
  },
  {
   "cell_type": "code",
   "execution_count": 23,
   "id": "ddc6a394-f8f0-4ec7-b154-71d2bebd2b7e",
   "metadata": {},
   "outputs": [
    {
     "data": {
      "text/plain": [
       "numpy.ndarray"
      ]
     },
     "execution_count": 23,
     "metadata": {},
     "output_type": "execute_result"
    }
   ],
   "source": [
    "type(X_train.values)"
   ]
  },
  {
   "cell_type": "markdown",
   "id": "edb13d50-1ec2-4142-8ccc-b01e25c4db50",
   "metadata": {},
   "source": [
    "## Create bag of words representation using CountVectorizer OR BEGAPOD METHOD"
   ]
  },
  {
   "cell_type": "code",
   "execution_count": 25,
   "id": "7cef8499-4f5f-4e3e-9df7-85c075523745",
   "metadata": {},
   "outputs": [
    {
     "data": {
      "text/plain": [
       "<7920x52816 sparse matrix of type '<class 'numpy.int64'>'\n",
       "\twith 1745278 stored elements in Compressed Sparse Row format>"
      ]
     },
     "execution_count": 25,
     "metadata": {},
     "output_type": "execute_result"
    }
   ],
   "source": [
    "from sklearn.feature_extraction.text import CountVectorizer\n",
    "v = CountVectorizer()\n",
    "X_train_cv = v.fit_transform(X_train.values)\n",
    "X_train_cv"
   ]
  },
  {
   "cell_type": "code",
   "execution_count": 26,
   "id": "196397c6-85b2-4575-a78c-ecd297a637e7",
   "metadata": {},
   "outputs": [
    {
     "data": {
      "text/plain": [
       "array([[0, 0, 0, ..., 0, 0, 0],\n",
       "       [0, 0, 0, ..., 0, 0, 0],\n",
       "       [0, 0, 0, ..., 0, 0, 0],\n",
       "       ...,\n",
       "       [0, 0, 0, ..., 0, 0, 0],\n",
       "       [0, 0, 0, ..., 0, 0, 0],\n",
       "       [0, 0, 0, ..., 0, 0, 0]], dtype=int64)"
      ]
     },
     "execution_count": 26,
     "metadata": {},
     "output_type": "execute_result"
    }
   ],
   "source": [
    "X_train_cv.toarray()"
   ]
  },
  {
   "cell_type": "code",
   "execution_count": 29,
   "id": "68ddb901-860f-4cde-8d4f-d8a03ed8da24",
   "metadata": {},
   "outputs": [
    {
     "data": {
      "text/plain": [
       "(7920, 52816)"
      ]
     },
     "execution_count": 29,
     "metadata": {},
     "output_type": "execute_result"
    }
   ],
   "source": [
    "X_train_cv.shape"
   ]
  },
  {
   "cell_type": "code",
   "execution_count": 31,
   "id": "d35e5ab4-1d9f-4754-a85c-f7058adc8061",
   "metadata": {},
   "outputs": [
    {
     "data": {
      "text/plain": [
       "array([[0, 0, 0, ..., 0, 0, 0]], dtype=int64)"
      ]
     },
     "execution_count": 31,
     "metadata": {},
     "output_type": "execute_result"
    }
   ],
   "source": [
    "X_train_cv[0].toarray()"
   ]
  },
  {
   "cell_type": "code",
   "execution_count": 33,
   "id": "576b1e06-d6a1-4d2e-a53a-9b3e2a6e4893",
   "metadata": {},
   "outputs": [
    {
     "data": {
      "text/plain": [
       "array(['00', '000', '0000', ..., 'zzzzaaaacccchhh', 'zzzzzzzzzzzzz',\n",
       "       'émigré'], dtype=object)"
      ]
     },
     "execution_count": 33,
     "metadata": {},
     "output_type": "execute_result"
    }
   ],
   "source": [
    "#ALL ROW  52816 FOLLOW CODE\n",
    "v.get_feature_names_out()"
   ]
  },
  {
   "cell_type": "code",
   "execution_count": 35,
   "id": "9008d258-3b64-4e2f-a574-b01a9cb93209",
   "metadata": {},
   "outputs": [
    {
     "data": {
      "text/html": [
       "<div>\n",
       "<style scoped>\n",
       "    .dataframe tbody tr th:only-of-type {\n",
       "        vertical-align: middle;\n",
       "    }\n",
       "\n",
       "    .dataframe tbody tr th {\n",
       "        vertical-align: top;\n",
       "    }\n",
       "\n",
       "    .dataframe thead th {\n",
       "        text-align: right;\n",
       "    }\n",
       "</style>\n",
       "<table border=\"1\" class=\"dataframe\">\n",
       "  <thead>\n",
       "    <tr style=\"text-align: right;\">\n",
       "      <th></th>\n",
       "      <th>00</th>\n",
       "      <th>000</th>\n",
       "      <th>0000</th>\n",
       "      <th>00007</th>\n",
       "      <th>00042</th>\n",
       "      <th>0005</th>\n",
       "      <th>000s</th>\n",
       "      <th>001</th>\n",
       "      <th>00155</th>\n",
       "      <th>0019</th>\n",
       "      <th>...</th>\n",
       "      <th>zyklon</th>\n",
       "      <th>zypries</th>\n",
       "      <th>zyries</th>\n",
       "      <th>zz</th>\n",
       "      <th>zzbluecomet</th>\n",
       "      <th>zzsg90pbf6</th>\n",
       "      <th>zztaine</th>\n",
       "      <th>zzzzaaaacccchhh</th>\n",
       "      <th>zzzzzzzzzzzzz</th>\n",
       "      <th>émigré</th>\n",
       "    </tr>\n",
       "  </thead>\n",
       "  <tbody>\n",
       "    <tr>\n",
       "      <th>0</th>\n",
       "      <td>0</td>\n",
       "      <td>0</td>\n",
       "      <td>0</td>\n",
       "      <td>0</td>\n",
       "      <td>0</td>\n",
       "      <td>0</td>\n",
       "      <td>0</td>\n",
       "      <td>0</td>\n",
       "      <td>0</td>\n",
       "      <td>0</td>\n",
       "      <td>...</td>\n",
       "      <td>0</td>\n",
       "      <td>0</td>\n",
       "      <td>0</td>\n",
       "      <td>0</td>\n",
       "      <td>0</td>\n",
       "      <td>0</td>\n",
       "      <td>0</td>\n",
       "      <td>0</td>\n",
       "      <td>0</td>\n",
       "      <td>0</td>\n",
       "    </tr>\n",
       "    <tr>\n",
       "      <th>1</th>\n",
       "      <td>0</td>\n",
       "      <td>0</td>\n",
       "      <td>0</td>\n",
       "      <td>0</td>\n",
       "      <td>0</td>\n",
       "      <td>0</td>\n",
       "      <td>0</td>\n",
       "      <td>0</td>\n",
       "      <td>0</td>\n",
       "      <td>0</td>\n",
       "      <td>...</td>\n",
       "      <td>0</td>\n",
       "      <td>0</td>\n",
       "      <td>0</td>\n",
       "      <td>0</td>\n",
       "      <td>0</td>\n",
       "      <td>0</td>\n",
       "      <td>0</td>\n",
       "      <td>0</td>\n",
       "      <td>0</td>\n",
       "      <td>0</td>\n",
       "    </tr>\n",
       "    <tr>\n",
       "      <th>2</th>\n",
       "      <td>0</td>\n",
       "      <td>0</td>\n",
       "      <td>0</td>\n",
       "      <td>0</td>\n",
       "      <td>0</td>\n",
       "      <td>0</td>\n",
       "      <td>0</td>\n",
       "      <td>0</td>\n",
       "      <td>0</td>\n",
       "      <td>0</td>\n",
       "      <td>...</td>\n",
       "      <td>0</td>\n",
       "      <td>0</td>\n",
       "      <td>0</td>\n",
       "      <td>0</td>\n",
       "      <td>0</td>\n",
       "      <td>0</td>\n",
       "      <td>0</td>\n",
       "      <td>0</td>\n",
       "      <td>0</td>\n",
       "      <td>0</td>\n",
       "    </tr>\n",
       "    <tr>\n",
       "      <th>3</th>\n",
       "      <td>0</td>\n",
       "      <td>0</td>\n",
       "      <td>0</td>\n",
       "      <td>0</td>\n",
       "      <td>0</td>\n",
       "      <td>0</td>\n",
       "      <td>0</td>\n",
       "      <td>0</td>\n",
       "      <td>0</td>\n",
       "      <td>0</td>\n",
       "      <td>...</td>\n",
       "      <td>0</td>\n",
       "      <td>0</td>\n",
       "      <td>0</td>\n",
       "      <td>0</td>\n",
       "      <td>0</td>\n",
       "      <td>0</td>\n",
       "      <td>0</td>\n",
       "      <td>0</td>\n",
       "      <td>0</td>\n",
       "      <td>0</td>\n",
       "    </tr>\n",
       "    <tr>\n",
       "      <th>4</th>\n",
       "      <td>0</td>\n",
       "      <td>0</td>\n",
       "      <td>0</td>\n",
       "      <td>0</td>\n",
       "      <td>0</td>\n",
       "      <td>0</td>\n",
       "      <td>0</td>\n",
       "      <td>0</td>\n",
       "      <td>0</td>\n",
       "      <td>0</td>\n",
       "      <td>...</td>\n",
       "      <td>0</td>\n",
       "      <td>0</td>\n",
       "      <td>0</td>\n",
       "      <td>0</td>\n",
       "      <td>0</td>\n",
       "      <td>0</td>\n",
       "      <td>0</td>\n",
       "      <td>0</td>\n",
       "      <td>0</td>\n",
       "      <td>0</td>\n",
       "    </tr>\n",
       "    <tr>\n",
       "      <th>...</th>\n",
       "      <td>...</td>\n",
       "      <td>...</td>\n",
       "      <td>...</td>\n",
       "      <td>...</td>\n",
       "      <td>...</td>\n",
       "      <td>...</td>\n",
       "      <td>...</td>\n",
       "      <td>...</td>\n",
       "      <td>...</td>\n",
       "      <td>...</td>\n",
       "      <td>...</td>\n",
       "      <td>...</td>\n",
       "      <td>...</td>\n",
       "      <td>...</td>\n",
       "      <td>...</td>\n",
       "      <td>...</td>\n",
       "      <td>...</td>\n",
       "      <td>...</td>\n",
       "      <td>...</td>\n",
       "      <td>...</td>\n",
       "      <td>...</td>\n",
       "    </tr>\n",
       "    <tr>\n",
       "      <th>7915</th>\n",
       "      <td>0</td>\n",
       "      <td>0</td>\n",
       "      <td>0</td>\n",
       "      <td>0</td>\n",
       "      <td>0</td>\n",
       "      <td>0</td>\n",
       "      <td>0</td>\n",
       "      <td>0</td>\n",
       "      <td>0</td>\n",
       "      <td>0</td>\n",
       "      <td>...</td>\n",
       "      <td>0</td>\n",
       "      <td>0</td>\n",
       "      <td>0</td>\n",
       "      <td>0</td>\n",
       "      <td>0</td>\n",
       "      <td>0</td>\n",
       "      <td>0</td>\n",
       "      <td>0</td>\n",
       "      <td>0</td>\n",
       "      <td>0</td>\n",
       "    </tr>\n",
       "    <tr>\n",
       "      <th>7916</th>\n",
       "      <td>0</td>\n",
       "      <td>0</td>\n",
       "      <td>0</td>\n",
       "      <td>0</td>\n",
       "      <td>0</td>\n",
       "      <td>0</td>\n",
       "      <td>0</td>\n",
       "      <td>0</td>\n",
       "      <td>0</td>\n",
       "      <td>0</td>\n",
       "      <td>...</td>\n",
       "      <td>0</td>\n",
       "      <td>0</td>\n",
       "      <td>0</td>\n",
       "      <td>0</td>\n",
       "      <td>0</td>\n",
       "      <td>0</td>\n",
       "      <td>0</td>\n",
       "      <td>0</td>\n",
       "      <td>0</td>\n",
       "      <td>0</td>\n",
       "    </tr>\n",
       "    <tr>\n",
       "      <th>7917</th>\n",
       "      <td>0</td>\n",
       "      <td>0</td>\n",
       "      <td>0</td>\n",
       "      <td>0</td>\n",
       "      <td>0</td>\n",
       "      <td>0</td>\n",
       "      <td>0</td>\n",
       "      <td>0</td>\n",
       "      <td>0</td>\n",
       "      <td>0</td>\n",
       "      <td>...</td>\n",
       "      <td>0</td>\n",
       "      <td>0</td>\n",
       "      <td>0</td>\n",
       "      <td>0</td>\n",
       "      <td>0</td>\n",
       "      <td>0</td>\n",
       "      <td>0</td>\n",
       "      <td>0</td>\n",
       "      <td>0</td>\n",
       "      <td>0</td>\n",
       "    </tr>\n",
       "    <tr>\n",
       "      <th>7918</th>\n",
       "      <td>0</td>\n",
       "      <td>0</td>\n",
       "      <td>0</td>\n",
       "      <td>0</td>\n",
       "      <td>0</td>\n",
       "      <td>0</td>\n",
       "      <td>0</td>\n",
       "      <td>0</td>\n",
       "      <td>0</td>\n",
       "      <td>0</td>\n",
       "      <td>...</td>\n",
       "      <td>0</td>\n",
       "      <td>0</td>\n",
       "      <td>0</td>\n",
       "      <td>0</td>\n",
       "      <td>0</td>\n",
       "      <td>0</td>\n",
       "      <td>0</td>\n",
       "      <td>0</td>\n",
       "      <td>0</td>\n",
       "      <td>0</td>\n",
       "    </tr>\n",
       "    <tr>\n",
       "      <th>7919</th>\n",
       "      <td>0</td>\n",
       "      <td>0</td>\n",
       "      <td>0</td>\n",
       "      <td>0</td>\n",
       "      <td>0</td>\n",
       "      <td>0</td>\n",
       "      <td>0</td>\n",
       "      <td>0</td>\n",
       "      <td>0</td>\n",
       "      <td>0</td>\n",
       "      <td>...</td>\n",
       "      <td>0</td>\n",
       "      <td>0</td>\n",
       "      <td>0</td>\n",
       "      <td>0</td>\n",
       "      <td>0</td>\n",
       "      <td>0</td>\n",
       "      <td>0</td>\n",
       "      <td>0</td>\n",
       "      <td>0</td>\n",
       "      <td>0</td>\n",
       "    </tr>\n",
       "  </tbody>\n",
       "</table>\n",
       "<p>7920 rows × 52816 columns</p>\n",
       "</div>"
      ],
      "text/plain": [
       "      00  000  0000  00007  00042  0005  000s  001  00155  0019  ...  zyklon  \\\n",
       "0      0    0     0      0      0     0     0    0      0     0  ...       0   \n",
       "1      0    0     0      0      0     0     0    0      0     0  ...       0   \n",
       "2      0    0     0      0      0     0     0    0      0     0  ...       0   \n",
       "3      0    0     0      0      0     0     0    0      0     0  ...       0   \n",
       "4      0    0     0      0      0     0     0    0      0     0  ...       0   \n",
       "...   ..  ...   ...    ...    ...   ...   ...  ...    ...   ...  ...     ...   \n",
       "7915   0    0     0      0      0     0     0    0      0     0  ...       0   \n",
       "7916   0    0     0      0      0     0     0    0      0     0  ...       0   \n",
       "7917   0    0     0      0      0     0     0    0      0     0  ...       0   \n",
       "7918   0    0     0      0      0     0     0    0      0     0  ...       0   \n",
       "7919   0    0     0      0      0     0     0    0      0     0  ...       0   \n",
       "\n",
       "      zypries  zyries  zz  zzbluecomet  zzsg90pbf6  zztaine  zzzzaaaacccchhh  \\\n",
       "0           0       0   0            0           0        0                0   \n",
       "1           0       0   0            0           0        0                0   \n",
       "2           0       0   0            0           0        0                0   \n",
       "3           0       0   0            0           0        0                0   \n",
       "4           0       0   0            0           0        0                0   \n",
       "...       ...     ...  ..          ...         ...      ...              ...   \n",
       "7915        0       0   0            0           0        0                0   \n",
       "7916        0       0   0            0           0        0                0   \n",
       "7917        0       0   0            0           0        0                0   \n",
       "7918        0       0   0            0           0        0                0   \n",
       "7919        0       0   0            0           0        0                0   \n",
       "\n",
       "      zzzzzzzzzzzzz  émigré  \n",
       "0                 0       0  \n",
       "1                 0       0  \n",
       "2                 0       0  \n",
       "3                 0       0  \n",
       "4                 0       0  \n",
       "...             ...     ...  \n",
       "7915              0       0  \n",
       "7916              0       0  \n",
       "7917              0       0  \n",
       "7918              0       0  \n",
       "7919              0       0  \n",
       "\n",
       "[7920 rows x 52816 columns]"
      ]
     },
     "execution_count": 35,
     "metadata": {},
     "output_type": "execute_result"
    }
   ],
   "source": [
    "pd.DataFrame(X_train_cv.toarray(), columns=v.get_feature_names_out())"
   ]
  },
  {
   "cell_type": "code",
   "execution_count": 37,
   "id": "c5e27a05-9096-4b37-907f-ca9f4fed0cde",
   "metadata": {},
   "outputs": [
    {
     "data": {
      "text/html": [
       "<style>#sk-container-id-1 {\n",
       "  /* Definition of color scheme common for light and dark mode */\n",
       "  --sklearn-color-text: black;\n",
       "  --sklearn-color-line: gray;\n",
       "  /* Definition of color scheme for unfitted estimators */\n",
       "  --sklearn-color-unfitted-level-0: #fff5e6;\n",
       "  --sklearn-color-unfitted-level-1: #f6e4d2;\n",
       "  --sklearn-color-unfitted-level-2: #ffe0b3;\n",
       "  --sklearn-color-unfitted-level-3: chocolate;\n",
       "  /* Definition of color scheme for fitted estimators */\n",
       "  --sklearn-color-fitted-level-0: #f0f8ff;\n",
       "  --sklearn-color-fitted-level-1: #d4ebff;\n",
       "  --sklearn-color-fitted-level-2: #b3dbfd;\n",
       "  --sklearn-color-fitted-level-3: cornflowerblue;\n",
       "\n",
       "  /* Specific color for light theme */\n",
       "  --sklearn-color-text-on-default-background: var(--sg-text-color, var(--theme-code-foreground, var(--jp-content-font-color1, black)));\n",
       "  --sklearn-color-background: var(--sg-background-color, var(--theme-background, var(--jp-layout-color0, white)));\n",
       "  --sklearn-color-border-box: var(--sg-text-color, var(--theme-code-foreground, var(--jp-content-font-color1, black)));\n",
       "  --sklearn-color-icon: #696969;\n",
       "\n",
       "  @media (prefers-color-scheme: dark) {\n",
       "    /* Redefinition of color scheme for dark theme */\n",
       "    --sklearn-color-text-on-default-background: var(--sg-text-color, var(--theme-code-foreground, var(--jp-content-font-color1, white)));\n",
       "    --sklearn-color-background: var(--sg-background-color, var(--theme-background, var(--jp-layout-color0, #111)));\n",
       "    --sklearn-color-border-box: var(--sg-text-color, var(--theme-code-foreground, var(--jp-content-font-color1, white)));\n",
       "    --sklearn-color-icon: #878787;\n",
       "  }\n",
       "}\n",
       "\n",
       "#sk-container-id-1 {\n",
       "  color: var(--sklearn-color-text);\n",
       "}\n",
       "\n",
       "#sk-container-id-1 pre {\n",
       "  padding: 0;\n",
       "}\n",
       "\n",
       "#sk-container-id-1 input.sk-hidden--visually {\n",
       "  border: 0;\n",
       "  clip: rect(1px 1px 1px 1px);\n",
       "  clip: rect(1px, 1px, 1px, 1px);\n",
       "  height: 1px;\n",
       "  margin: -1px;\n",
       "  overflow: hidden;\n",
       "  padding: 0;\n",
       "  position: absolute;\n",
       "  width: 1px;\n",
       "}\n",
       "\n",
       "#sk-container-id-1 div.sk-dashed-wrapped {\n",
       "  border: 1px dashed var(--sklearn-color-line);\n",
       "  margin: 0 0.4em 0.5em 0.4em;\n",
       "  box-sizing: border-box;\n",
       "  padding-bottom: 0.4em;\n",
       "  background-color: var(--sklearn-color-background);\n",
       "}\n",
       "\n",
       "#sk-container-id-1 div.sk-container {\n",
       "  /* jupyter's `normalize.less` sets `[hidden] { display: none; }`\n",
       "     but bootstrap.min.css set `[hidden] { display: none !important; }`\n",
       "     so we also need the `!important` here to be able to override the\n",
       "     default hidden behavior on the sphinx rendered scikit-learn.org.\n",
       "     See: https://github.com/scikit-learn/scikit-learn/issues/21755 */\n",
       "  display: inline-block !important;\n",
       "  position: relative;\n",
       "}\n",
       "\n",
       "#sk-container-id-1 div.sk-text-repr-fallback {\n",
       "  display: none;\n",
       "}\n",
       "\n",
       "div.sk-parallel-item,\n",
       "div.sk-serial,\n",
       "div.sk-item {\n",
       "  /* draw centered vertical line to link estimators */\n",
       "  background-image: linear-gradient(var(--sklearn-color-text-on-default-background), var(--sklearn-color-text-on-default-background));\n",
       "  background-size: 2px 100%;\n",
       "  background-repeat: no-repeat;\n",
       "  background-position: center center;\n",
       "}\n",
       "\n",
       "/* Parallel-specific style estimator block */\n",
       "\n",
       "#sk-container-id-1 div.sk-parallel-item::after {\n",
       "  content: \"\";\n",
       "  width: 100%;\n",
       "  border-bottom: 2px solid var(--sklearn-color-text-on-default-background);\n",
       "  flex-grow: 1;\n",
       "}\n",
       "\n",
       "#sk-container-id-1 div.sk-parallel {\n",
       "  display: flex;\n",
       "  align-items: stretch;\n",
       "  justify-content: center;\n",
       "  background-color: var(--sklearn-color-background);\n",
       "  position: relative;\n",
       "}\n",
       "\n",
       "#sk-container-id-1 div.sk-parallel-item {\n",
       "  display: flex;\n",
       "  flex-direction: column;\n",
       "}\n",
       "\n",
       "#sk-container-id-1 div.sk-parallel-item:first-child::after {\n",
       "  align-self: flex-end;\n",
       "  width: 50%;\n",
       "}\n",
       "\n",
       "#sk-container-id-1 div.sk-parallel-item:last-child::after {\n",
       "  align-self: flex-start;\n",
       "  width: 50%;\n",
       "}\n",
       "\n",
       "#sk-container-id-1 div.sk-parallel-item:only-child::after {\n",
       "  width: 0;\n",
       "}\n",
       "\n",
       "/* Serial-specific style estimator block */\n",
       "\n",
       "#sk-container-id-1 div.sk-serial {\n",
       "  display: flex;\n",
       "  flex-direction: column;\n",
       "  align-items: center;\n",
       "  background-color: var(--sklearn-color-background);\n",
       "  padding-right: 1em;\n",
       "  padding-left: 1em;\n",
       "}\n",
       "\n",
       "\n",
       "/* Toggleable style: style used for estimator/Pipeline/ColumnTransformer box that is\n",
       "clickable and can be expanded/collapsed.\n",
       "- Pipeline and ColumnTransformer use this feature and define the default style\n",
       "- Estimators will overwrite some part of the style using the `sk-estimator` class\n",
       "*/\n",
       "\n",
       "/* Pipeline and ColumnTransformer style (default) */\n",
       "\n",
       "#sk-container-id-1 div.sk-toggleable {\n",
       "  /* Default theme specific background. It is overwritten whether we have a\n",
       "  specific estimator or a Pipeline/ColumnTransformer */\n",
       "  background-color: var(--sklearn-color-background);\n",
       "}\n",
       "\n",
       "/* Toggleable label */\n",
       "#sk-container-id-1 label.sk-toggleable__label {\n",
       "  cursor: pointer;\n",
       "  display: block;\n",
       "  width: 100%;\n",
       "  margin-bottom: 0;\n",
       "  padding: 0.5em;\n",
       "  box-sizing: border-box;\n",
       "  text-align: center;\n",
       "}\n",
       "\n",
       "#sk-container-id-1 label.sk-toggleable__label-arrow:before {\n",
       "  /* Arrow on the left of the label */\n",
       "  content: \"▸\";\n",
       "  float: left;\n",
       "  margin-right: 0.25em;\n",
       "  color: var(--sklearn-color-icon);\n",
       "}\n",
       "\n",
       "#sk-container-id-1 label.sk-toggleable__label-arrow:hover:before {\n",
       "  color: var(--sklearn-color-text);\n",
       "}\n",
       "\n",
       "/* Toggleable content - dropdown */\n",
       "\n",
       "#sk-container-id-1 div.sk-toggleable__content {\n",
       "  max-height: 0;\n",
       "  max-width: 0;\n",
       "  overflow: hidden;\n",
       "  text-align: left;\n",
       "  /* unfitted */\n",
       "  background-color: var(--sklearn-color-unfitted-level-0);\n",
       "}\n",
       "\n",
       "#sk-container-id-1 div.sk-toggleable__content.fitted {\n",
       "  /* fitted */\n",
       "  background-color: var(--sklearn-color-fitted-level-0);\n",
       "}\n",
       "\n",
       "#sk-container-id-1 div.sk-toggleable__content pre {\n",
       "  margin: 0.2em;\n",
       "  border-radius: 0.25em;\n",
       "  color: var(--sklearn-color-text);\n",
       "  /* unfitted */\n",
       "  background-color: var(--sklearn-color-unfitted-level-0);\n",
       "}\n",
       "\n",
       "#sk-container-id-1 div.sk-toggleable__content.fitted pre {\n",
       "  /* unfitted */\n",
       "  background-color: var(--sklearn-color-fitted-level-0);\n",
       "}\n",
       "\n",
       "#sk-container-id-1 input.sk-toggleable__control:checked~div.sk-toggleable__content {\n",
       "  /* Expand drop-down */\n",
       "  max-height: 200px;\n",
       "  max-width: 100%;\n",
       "  overflow: auto;\n",
       "}\n",
       "\n",
       "#sk-container-id-1 input.sk-toggleable__control:checked~label.sk-toggleable__label-arrow:before {\n",
       "  content: \"▾\";\n",
       "}\n",
       "\n",
       "/* Pipeline/ColumnTransformer-specific style */\n",
       "\n",
       "#sk-container-id-1 div.sk-label input.sk-toggleable__control:checked~label.sk-toggleable__label {\n",
       "  color: var(--sklearn-color-text);\n",
       "  background-color: var(--sklearn-color-unfitted-level-2);\n",
       "}\n",
       "\n",
       "#sk-container-id-1 div.sk-label.fitted input.sk-toggleable__control:checked~label.sk-toggleable__label {\n",
       "  background-color: var(--sklearn-color-fitted-level-2);\n",
       "}\n",
       "\n",
       "/* Estimator-specific style */\n",
       "\n",
       "/* Colorize estimator box */\n",
       "#sk-container-id-1 div.sk-estimator input.sk-toggleable__control:checked~label.sk-toggleable__label {\n",
       "  /* unfitted */\n",
       "  background-color: var(--sklearn-color-unfitted-level-2);\n",
       "}\n",
       "\n",
       "#sk-container-id-1 div.sk-estimator.fitted input.sk-toggleable__control:checked~label.sk-toggleable__label {\n",
       "  /* fitted */\n",
       "  background-color: var(--sklearn-color-fitted-level-2);\n",
       "}\n",
       "\n",
       "#sk-container-id-1 div.sk-label label.sk-toggleable__label,\n",
       "#sk-container-id-1 div.sk-label label {\n",
       "  /* The background is the default theme color */\n",
       "  color: var(--sklearn-color-text-on-default-background);\n",
       "}\n",
       "\n",
       "/* On hover, darken the color of the background */\n",
       "#sk-container-id-1 div.sk-label:hover label.sk-toggleable__label {\n",
       "  color: var(--sklearn-color-text);\n",
       "  background-color: var(--sklearn-color-unfitted-level-2);\n",
       "}\n",
       "\n",
       "/* Label box, darken color on hover, fitted */\n",
       "#sk-container-id-1 div.sk-label.fitted:hover label.sk-toggleable__label.fitted {\n",
       "  color: var(--sklearn-color-text);\n",
       "  background-color: var(--sklearn-color-fitted-level-2);\n",
       "}\n",
       "\n",
       "/* Estimator label */\n",
       "\n",
       "#sk-container-id-1 div.sk-label label {\n",
       "  font-family: monospace;\n",
       "  font-weight: bold;\n",
       "  display: inline-block;\n",
       "  line-height: 1.2em;\n",
       "}\n",
       "\n",
       "#sk-container-id-1 div.sk-label-container {\n",
       "  text-align: center;\n",
       "}\n",
       "\n",
       "/* Estimator-specific */\n",
       "#sk-container-id-1 div.sk-estimator {\n",
       "  font-family: monospace;\n",
       "  border: 1px dotted var(--sklearn-color-border-box);\n",
       "  border-radius: 0.25em;\n",
       "  box-sizing: border-box;\n",
       "  margin-bottom: 0.5em;\n",
       "  /* unfitted */\n",
       "  background-color: var(--sklearn-color-unfitted-level-0);\n",
       "}\n",
       "\n",
       "#sk-container-id-1 div.sk-estimator.fitted {\n",
       "  /* fitted */\n",
       "  background-color: var(--sklearn-color-fitted-level-0);\n",
       "}\n",
       "\n",
       "/* on hover */\n",
       "#sk-container-id-1 div.sk-estimator:hover {\n",
       "  /* unfitted */\n",
       "  background-color: var(--sklearn-color-unfitted-level-2);\n",
       "}\n",
       "\n",
       "#sk-container-id-1 div.sk-estimator.fitted:hover {\n",
       "  /* fitted */\n",
       "  background-color: var(--sklearn-color-fitted-level-2);\n",
       "}\n",
       "\n",
       "/* Specification for estimator info (e.g. \"i\" and \"?\") */\n",
       "\n",
       "/* Common style for \"i\" and \"?\" */\n",
       "\n",
       ".sk-estimator-doc-link,\n",
       "a:link.sk-estimator-doc-link,\n",
       "a:visited.sk-estimator-doc-link {\n",
       "  float: right;\n",
       "  font-size: smaller;\n",
       "  line-height: 1em;\n",
       "  font-family: monospace;\n",
       "  background-color: var(--sklearn-color-background);\n",
       "  border-radius: 1em;\n",
       "  height: 1em;\n",
       "  width: 1em;\n",
       "  text-decoration: none !important;\n",
       "  margin-left: 1ex;\n",
       "  /* unfitted */\n",
       "  border: var(--sklearn-color-unfitted-level-1) 1pt solid;\n",
       "  color: var(--sklearn-color-unfitted-level-1);\n",
       "}\n",
       "\n",
       ".sk-estimator-doc-link.fitted,\n",
       "a:link.sk-estimator-doc-link.fitted,\n",
       "a:visited.sk-estimator-doc-link.fitted {\n",
       "  /* fitted */\n",
       "  border: var(--sklearn-color-fitted-level-1) 1pt solid;\n",
       "  color: var(--sklearn-color-fitted-level-1);\n",
       "}\n",
       "\n",
       "/* On hover */\n",
       "div.sk-estimator:hover .sk-estimator-doc-link:hover,\n",
       ".sk-estimator-doc-link:hover,\n",
       "div.sk-label-container:hover .sk-estimator-doc-link:hover,\n",
       ".sk-estimator-doc-link:hover {\n",
       "  /* unfitted */\n",
       "  background-color: var(--sklearn-color-unfitted-level-3);\n",
       "  color: var(--sklearn-color-background);\n",
       "  text-decoration: none;\n",
       "}\n",
       "\n",
       "div.sk-estimator.fitted:hover .sk-estimator-doc-link.fitted:hover,\n",
       ".sk-estimator-doc-link.fitted:hover,\n",
       "div.sk-label-container:hover .sk-estimator-doc-link.fitted:hover,\n",
       ".sk-estimator-doc-link.fitted:hover {\n",
       "  /* fitted */\n",
       "  background-color: var(--sklearn-color-fitted-level-3);\n",
       "  color: var(--sklearn-color-background);\n",
       "  text-decoration: none;\n",
       "}\n",
       "\n",
       "/* Span, style for the box shown on hovering the info icon */\n",
       ".sk-estimator-doc-link span {\n",
       "  display: none;\n",
       "  z-index: 9999;\n",
       "  position: relative;\n",
       "  font-weight: normal;\n",
       "  right: .2ex;\n",
       "  padding: .5ex;\n",
       "  margin: .5ex;\n",
       "  width: min-content;\n",
       "  min-width: 20ex;\n",
       "  max-width: 50ex;\n",
       "  color: var(--sklearn-color-text);\n",
       "  box-shadow: 2pt 2pt 4pt #999;\n",
       "  /* unfitted */\n",
       "  background: var(--sklearn-color-unfitted-level-0);\n",
       "  border: .5pt solid var(--sklearn-color-unfitted-level-3);\n",
       "}\n",
       "\n",
       ".sk-estimator-doc-link.fitted span {\n",
       "  /* fitted */\n",
       "  background: var(--sklearn-color-fitted-level-0);\n",
       "  border: var(--sklearn-color-fitted-level-3);\n",
       "}\n",
       "\n",
       ".sk-estimator-doc-link:hover span {\n",
       "  display: block;\n",
       "}\n",
       "\n",
       "/* \"?\"-specific style due to the `<a>` HTML tag */\n",
       "\n",
       "#sk-container-id-1 a.estimator_doc_link {\n",
       "  float: right;\n",
       "  font-size: 1rem;\n",
       "  line-height: 1em;\n",
       "  font-family: monospace;\n",
       "  background-color: var(--sklearn-color-background);\n",
       "  border-radius: 1rem;\n",
       "  height: 1rem;\n",
       "  width: 1rem;\n",
       "  text-decoration: none;\n",
       "  /* unfitted */\n",
       "  color: var(--sklearn-color-unfitted-level-1);\n",
       "  border: var(--sklearn-color-unfitted-level-1) 1pt solid;\n",
       "}\n",
       "\n",
       "#sk-container-id-1 a.estimator_doc_link.fitted {\n",
       "  /* fitted */\n",
       "  border: var(--sklearn-color-fitted-level-1) 1pt solid;\n",
       "  color: var(--sklearn-color-fitted-level-1);\n",
       "}\n",
       "\n",
       "/* On hover */\n",
       "#sk-container-id-1 a.estimator_doc_link:hover {\n",
       "  /* unfitted */\n",
       "  background-color: var(--sklearn-color-unfitted-level-3);\n",
       "  color: var(--sklearn-color-background);\n",
       "  text-decoration: none;\n",
       "}\n",
       "\n",
       "#sk-container-id-1 a.estimator_doc_link.fitted:hover {\n",
       "  /* fitted */\n",
       "  background-color: var(--sklearn-color-fitted-level-3);\n",
       "}\n",
       "</style><div id=\"sk-container-id-1\" class=\"sk-top-container\"><div class=\"sk-text-repr-fallback\"><pre>MultinomialNB()</pre><b>In a Jupyter environment, please rerun this cell to show the HTML representation or trust the notebook. <br />On GitHub, the HTML representation is unable to render, please try loading this page with nbviewer.org.</b></div><div class=\"sk-container\" hidden><div class=\"sk-item\"><div class=\"sk-estimator fitted sk-toggleable\"><input class=\"sk-toggleable__control sk-hidden--visually\" id=\"sk-estimator-id-1\" type=\"checkbox\" checked><label for=\"sk-estimator-id-1\" class=\"sk-toggleable__label fitted sk-toggleable__label-arrow fitted\">&nbsp;&nbsp;MultinomialNB<a class=\"sk-estimator-doc-link fitted\" rel=\"noreferrer\" target=\"_blank\" href=\"https://scikit-learn.org/1.4/modules/generated/sklearn.naive_bayes.MultinomialNB.html\">?<span>Documentation for MultinomialNB</span></a><span class=\"sk-estimator-doc-link fitted\">i<span>Fitted</span></span></label><div class=\"sk-toggleable__content fitted\"><pre>MultinomialNB()</pre></div> </div></div></div></div>"
      ],
      "text/plain": [
       "MultinomialNB()"
      ]
     },
     "execution_count": 37,
     "metadata": {},
     "output_type": "execute_result"
    }
   ],
   "source": [
    "from sklearn.naive_bayes import MultinomialNB\n",
    "\n",
    "model = MultinomialNB()\n",
    "model.fit(X_train_cv, y_train)"
   ]
  },
  {
   "cell_type": "code",
   "execution_count": 41,
   "id": "82764886-4695-4132-861c-e44fc8afaee5",
   "metadata": {},
   "outputs": [
    {
     "data": {
      "text/plain": [
       "8432     Trump’s Involvement In Houston Chemical Plant...\n",
       "5680    U.S. Senate votes near unanimously for Russia,...\n",
       "4767    White and male: broader bureaucracy mirrors Tr...\n",
       "9218    Trump, Modi call North Korea's 'grave threat' ...\n",
       "621      Ivanka Trump Shares Famous Jewish Quote, But ...\n",
       "                              ...                        \n",
       "9500    Kid Rock hints online he will run for U.S. Sen...\n",
       "5858    U.S. Justice Department not looking to charge ...\n",
       "7442     WATCH: Nicolle Wallace Just Ripped Trump A Ne...\n",
       "2846    Trump budget would sell entire U.S. Northeast ...\n",
       "1468    Seeking end to boycott, North Carolina rescind...\n",
       "Name: Text, Length: 1980, dtype: object"
      ]
     },
     "execution_count": 41,
     "metadata": {},
     "output_type": "execute_result"
    }
   ],
   "source": [
    "X_test"
   ]
  },
  {
   "cell_type": "markdown",
   "id": "5a44da6a-5629-42e7-aa51-ad1e250f744f",
   "metadata": {},
   "source": [
    "#### SIMILARLY DO BEGAPOD FOR X_TEST"
   ]
  },
  {
   "cell_type": "code",
   "execution_count": 43,
   "id": "f9e69149-3372-473f-84b6-5167de3454e7",
   "metadata": {},
   "outputs": [],
   "source": [
    "X_test_cv = v.transform(X_test)"
   ]
  },
  {
   "cell_type": "code",
   "execution_count": 45,
   "id": "48dc0a9e-515f-4eed-a532-31474025110e",
   "metadata": {},
   "outputs": [
    {
     "data": {
      "text/plain": [
       "(1980, 52816)"
      ]
     },
     "execution_count": 45,
     "metadata": {},
     "output_type": "execute_result"
    }
   ],
   "source": [
    "X_test_cv.toarray().shape"
   ]
  },
  {
   "cell_type": "code",
   "execution_count": 47,
   "id": "c108d4ce-e0a6-42c7-8a48-3e8373bccfa8",
   "metadata": {},
   "outputs": [
    {
     "data": {
      "text/plain": [
       "0.9777777777777777"
      ]
     },
     "execution_count": 47,
     "metadata": {},
     "output_type": "execute_result"
    }
   ],
   "source": [
    "model.score(X_test_cv, y_test)"
   ]
  },
  {
   "cell_type": "code",
   "execution_count": 49,
   "id": "3859242c-35fc-4339-8a18-523024591741",
   "metadata": {},
   "outputs": [
    {
     "name": "stdout",
     "output_type": "stream",
     "text": [
      "              precision    recall  f1-score   support\n",
      "\n",
      "        Fake       0.98      0.98      0.98       973\n",
      "        Real       0.98      0.98      0.98      1007\n",
      "\n",
      "    accuracy                           0.98      1980\n",
      "   macro avg       0.98      0.98      0.98      1980\n",
      "weighted avg       0.98      0.98      0.98      1980\n",
      "\n"
     ]
    }
   ],
   "source": [
    "from sklearn.metrics import classification_report\n",
    "\n",
    "y_pred = model.predict(X_test_cv)\n",
    "\n",
    "print(classification_report(y_test, y_pred))"
   ]
  },
  {
   "cell_type": "markdown",
   "id": "3ba4ccef-fccb-4c35-985f-c27d198d624b",
   "metadata": {},
   "source": [
    "## Now Input new prediction data for fake news "
   ]
  },
  {
   "cell_type": "code",
   "execution_count": 51,
   "id": "5e8e64ce-3f3b-48cb-a4bc-b3185cea80e8",
   "metadata": {},
   "outputs": [],
   "source": [
    "email_dataset = [\n",
    "    \"Residents of New York City reported seeing strange lights in the sky last night, with some speculating that they were extraterrestrial beings. Scientists have yet to confirm or deny the sightings, but social media is abuzz with excitement.\",\n",
    "    \"A groundbreaking study from a little-known research institute claims that chocolate, specifically dark chocolate, can cure cancer. Experts have raised concerns about the lack of peer-reviewed research to support these findings.\",\n",
    "    \"NASA scientists have confirmed the discovery of a new exoplanet located in the habitable zone of its star. The planet has water, raising hopes of finding extraterrestrial life in the near future.\",\n",
    "    \"Elon Musk has unveiled a detailed roadmap for SpaceX’s mission to colonize Mars by 2030. The ambitious project will involve sending multiple spacecraft to the red planet and establishing a permanent human presence.\",\n",
    "    \"Experts predict that a new ice age will begin in 2025 due to shifts in the Earth's magnetic poles and climate patterns. Authorities are urging people to prepare for drastic weather changes.\"\n",
    "]    "
   ]
  },
  {
   "cell_type": "code",
   "execution_count": 53,
   "id": "24023e59-f8cc-414f-b4e2-49a7c31c1d09",
   "metadata": {},
   "outputs": [
    {
     "data": {
      "text/plain": [
       "(5, 52816)"
      ]
     },
     "execution_count": 53,
     "metadata": {},
     "output_type": "execute_result"
    }
   ],
   "source": [
    "emails_count = v.transform(email_dataset)\n",
    "emails_count.toarray().shape"
   ]
  },
  {
   "cell_type": "code",
   "execution_count": 55,
   "id": "4b1910c5-3568-4a74-aaff-f6a1cb32edb6",
   "metadata": {},
   "outputs": [
    {
     "data": {
      "text/plain": [
       "array([[0, 0, 0, ..., 0, 0, 0],\n",
       "       [0, 0, 0, ..., 0, 0, 0],\n",
       "       [0, 0, 0, ..., 0, 0, 0],\n",
       "       [0, 0, 0, ..., 0, 0, 0],\n",
       "       [0, 0, 0, ..., 0, 0, 0]], dtype=int64)"
      ]
     },
     "execution_count": 55,
     "metadata": {},
     "output_type": "execute_result"
    }
   ],
   "source": [
    "emails_count.toarray()"
   ]
  },
  {
   "cell_type": "code",
   "execution_count": 57,
   "id": "77caff8d-dbf8-4915-8186-cf03a8967f85",
   "metadata": {},
   "outputs": [
    {
     "data": {
      "text/plain": [
       "array(['Fake', 'Real', 'Real', 'Real', 'Real'], dtype='<U4')"
      ]
     },
     "execution_count": 57,
     "metadata": {},
     "output_type": "execute_result"
    }
   ],
   "source": [
    "#emails_count.toarray().shape\n",
    "model.predict(emails_count)"
   ]
  },
  {
   "cell_type": "code",
   "execution_count": null,
   "id": "35cdbc38-f8fb-46da-85f6-ae3475740b3d",
   "metadata": {},
   "outputs": [],
   "source": []
  }
 ],
 "metadata": {
  "kernelspec": {
   "display_name": "Python 3 (ipykernel)",
   "language": "python",
   "name": "python3"
  },
  "language_info": {
   "codemirror_mode": {
    "name": "ipython",
    "version": 3
   },
   "file_extension": ".py",
   "mimetype": "text/x-python",
   "name": "python",
   "nbconvert_exporter": "python",
   "pygments_lexer": "ipython3",
   "version": "3.12.4"
  }
 },
 "nbformat": 4,
 "nbformat_minor": 5
}
